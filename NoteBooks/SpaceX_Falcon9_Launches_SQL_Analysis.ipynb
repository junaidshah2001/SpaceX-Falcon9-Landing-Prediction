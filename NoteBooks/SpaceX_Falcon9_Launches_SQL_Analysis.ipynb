{
  "nbformat": 4,
  "nbformat_minor": 0,
  "metadata": {
    "colab": {
      "provenance": []
    },
    "kernelspec": {
      "name": "python3",
      "display_name": "Python 3"
    },
    "language_info": {
      "name": "python"
    }
  },
  "cells": [
    {
      "cell_type": "markdown",
      "source": [
        "**3. Applied SQL: Exploring SpaceX Launch Records 📊**\n",
        "\n",
        "This notebook marks the transition from data preparation to strategic business intelligence. After successfully acquiring and cleaning the data, this phase focuses on Exploratory Data Analysis (EDA) performed through structured SQL queries on a temporary SQLite database.\n",
        "\n",
        "The Business Mandate: From Data to Decision\n",
        "For the fictional competitor, Space Y, understanding the historical performance levers of the Falcon 9 is paramount for risk management and competitive pricing. Raw data alone is insufficient; we require calculated Key Performance Indicators (KPIs). Using SQL allows us to:\n",
        "\n",
        "**Calculate Aggregates:** Determine precise success rates (the average of the binary Class column) across categorical variables like LaunchSite and Orbit.\n",
        "\n",
        "**Uncover Trends:** Track the evolution of reusability success over time to identify technological maturation points.\n",
        "\n",
        "**Validate Hypotheses:** Test initial assumptions, such as the correlation between PayloadMass and landing success probability.\n",
        "\n",
        "This structured intelligence, derived efficiently through SQL, provides the vital quantitative foundation for analyzing risk and setting competitive launch prices before the final machine learning model is trained.\n",
        "\n",
        "**💾 Phase 1:** Database Setup and Data Ingestion\n",
        "The initial code blocks establish the in-memory SQLite database connection and ingest the prepared spacex_clean_data.csv file, converting our clean DataFrame into a searchable relational table.\n",
        "\n",
        "**🔎 Phase 2**: Key Business Intelligence Queries\n",
        "This phase executes the critical SQL statements needed to extract specific insights. For each query, the Python code will execute the SQL and display the resulting DataFrame for interpretation.\n",
        "\n",
        "**Query A:** Overall Launch Success Rate\n",
        "Goal: Determine the project's baseline by calculating the overall percentage of successful reusability attempts (Class = 1).\n",
        "\n",
        "**Query B:** Success Rate Per Launch Site\n",
        "Goal: Identify which primary launch site provides the best performance history for successful first-stage recovery. This highlights geographical and logistical factors influencing success.\n",
        "\n",
        "**Query C:** Success Rate Per Orbit Type\n",
        "Goal: Analyze how different orbital destinations (LEO, GTO, SSO, etc.) correlate with reusability success, providing insight into mission difficulty and fuel margins.\n",
        "\n",
        "**Query D:** Launch Trends Over Time (Yearly Analysis)\n",
        "Goal: Track the progress of the Falcon 9 program by calculating the average success rate and average PayloadMass for each year. This reveals the program's learning curve and maturation timeline.\n",
        "\n",
        "**Query E:** Payload Mass vs. Outcome\n",
        "Goal: Quantify the impact of mission payload size by finding the average PayloadMass for missions that succeeded (Class = 1) versus those that failed (Class = 0).\n",
        "\n",
        "**✅ Phase 3:** Conclusion and Analytical Summary\n",
        "After executing the queries above, this final section will interpret the resulting data and synthesize the key findings. The analytical summary confirms which features (e.g., Launch Site, Orbit, Time) are statistically significant, providing clear justification for their use in the subsequent machine learning models."
      ],
      "metadata": {
        "id": "2PdZHFJ6TCKc"
      }
    },
    {
      "cell_type": "code",
      "execution_count": 11,
      "metadata": {
        "id": "kYg8RqgJHw6i",
        "colab": {
          "base_uri": "https://localhost:8080/"
        },
        "outputId": "2ce22c9d-1d37-4d2e-cfed-d7e9eab5eafd"
      },
      "outputs": [
        {
          "output_type": "stream",
          "name": "stdout",
          "text": [
            "The sql extension is already loaded. To reload it, use:\n",
            "  %reload_ext sql\n"
          ]
        }
      ],
      "source": [
        "# Standard libraries for CSV handling, database, and table display\n",
        "import csv\n",
        "import sqlite3\n",
        "import pandas as pd\n",
        "import prettytable\n",
        "\n",
        "# Configure PrettyTable default\n",
        "prettytable.DEFAULT = 'DEFAULT'\n",
        "\n",
        "# Load SQL extension for Colab\n",
        "%load_ext sql\n"
      ]
    },
    {
      "cell_type": "markdown",
      "metadata": {
        "id": "ee12cf3d"
      },
      "source": [
        "This cell establishes a connection to a local SQLite database named `my_data1.db`.\n",
        "\n",
        "- `sqlite3.connect(\"/content/my_data1.db\")`: This line connects to the database file. If the file doesn't exist, it will be created.\n",
        "- `con = sqlite3.connect(...)`: The connection object is assigned to the variable `con`.\n",
        "- `cur = con.cursor()`: A cursor object is created, which is used to execute SQL commands.\n",
        "- `%sql sqlite:////content/my_data1.db`: This line uses the SQL magic command to connect the SQL extension to the same SQLite database, allowing you to run SQL queries directly in subsequent cells using `%%sql` or `%sql`."
      ]
    },
    {
      "cell_type": "code",
      "source": [
        "# Connect to a local SQLite database file\n",
        "con = sqlite3.connect(\"/content/my_data1.db\")\n",
        "cur = con.cursor()\n",
        "\n",
        "# Optional: Use SQL magic in Colab for queries\n",
        "%sql sqlite:////content/my_data1.db\n"
      ],
      "metadata": {
        "id": "bD9aRySTFMCy"
      },
      "execution_count": 12,
      "outputs": []
    },
    {
      "cell_type": "markdown",
      "metadata": {
        "id": "54640c5d"
      },
      "source": [
        "This cell performs two main actions:\n",
        "\n",
        "1.  **Loads data from a CSV file:**\n",
        "    - `df = pd.read_csv(\"https://cf-courses-data.s3.us.cloud-object-storage.appdomain.cloud/IBM-DS0321EN-SkillsNetwork/labs/module_2/data/Spacex.csv\")`: This line reads the data from the provided URL into a pandas DataFrame named `df`. This DataFrame now holds the SpaceX launch records.\n",
        "\n",
        "2.  **Stores the DataFrame into a SQLite table:**\n",
        "    - `df.to_sql(\"SPACEXTBL\", con, if_exists='replace', index=False, method=\"multi\")`: This line takes the data from the `df` DataFrame and writes it into a SQLite table named `SPACEXTBL` within the connected database (`con`).\n",
        "        - `if_exists='replace'`: If a table named `SPACEXTBL` already exists, it will be dropped and replaced with the new data.\n",
        "        - `index=False`: This prevents pandas from writing the DataFrame index as a column in the SQL table.\n",
        "        - `method=\"multi\"`: This is a suggestion for how to insert the data, which can be more efficient for larger datasets.\n",
        "\n",
        "The output `101` likely indicates the number of rows successfully inserted into the `SPACEXTBL` table."
      ]
    },
    {
      "cell_type": "code",
      "source": [
        "# Load SpaceX launch CSV data into a DataFrame\n",
        "df = pd.read_csv(\n",
        "    \"https://cf-courses-data.s3.us.cloud-object-storage.appdomain.cloud/IBM-DS0321EN-SkillsNetwork/labs/module_2/data/Spacex.csv\"\n",
        ")\n",
        "\n",
        "# Store data into SQLite table 'SPACEXTBL'\n",
        "df.to_sql(\"SPACEXTBL\", con, if_exists='replace', index=False, method=\"multi\")\n"
      ],
      "metadata": {
        "colab": {
          "base_uri": "https://localhost:8080/"
        },
        "id": "wjTpILXlFQL0",
        "outputId": "bcfce1e4-b567-4a06-d6b9-4da36e05e2f6"
      },
      "execution_count": 13,
      "outputs": [
        {
          "output_type": "execute_result",
          "data": {
            "text/plain": [
              "101"
            ]
          },
          "metadata": {},
          "execution_count": 13
        }
      ]
    },
    {
      "cell_type": "markdown",
      "metadata": {
        "id": "9c71a30f"
      },
      "source": [
        "This cell performs two main actions:\n",
        "\n",
        "1.  **Drops and creates a clean table:**\n",
        "    - `%sql DROP TABLE IF EXISTS SPACEXTABLE;`: This line uses the SQL magic command to drop the `SPACEXTABLE` if it already exists, ensuring a clean slate for the next step.\n",
        "    - `%sql create table SPACEXTABLE as select * from SPACEXTBL where Date is not null`: This line creates a new table named `SPACEXTABLE` by selecting all columns from the `SPACEXTBL` table, but only including rows where the `Date` column is not null. This cleans the data by removing entries without a date.\n",
        "\n",
        "2.  **Attempts to check distinct launch sites:**\n",
        "    - `%sql SELECT DISTINCT \"Launch_Site\" FROM space_mission;`: This line attempts to query the distinct values in the \"Launch\\_Site\" column. However, it results in an error because the table name is mistyped as `space_mission` instead of the newly created `SPACEXTABLE`."
      ]
    },
    {
      "cell_type": "code",
      "source": [
        "# Drop table if it exists\n",
        "%sql DROP TABLE IF EXISTS SPACEXTABLE;\n",
        "\n",
        "# Create a clean table with only non-null Date values\n",
        "%sql create table SPACEXTABLE as select * from SPACEXTBL where Date is not null\n",
        "\n",
        "# Example: Check distinct launch sites (ensure correct table name)\n",
        "%sql SELECT DISTINCT \"Launch_Site\" FROM space_mission;\n"
      ],
      "metadata": {
        "colab": {
          "base_uri": "https://localhost:8080/"
        },
        "id": "vgpS7mb-Fiy3",
        "outputId": "ca9c37ea-6b78-4239-a1d2-522adb53ed3e"
      },
      "execution_count": 18,
      "outputs": [
        {
          "output_type": "stream",
          "name": "stdout",
          "text": [
            " * sqlite:////content/my_data1.db\n",
            "Done.\n",
            " * sqlite:////content/my_data1.db\n",
            "Done.\n",
            " * sqlite:////content/my_data1.db\n",
            "(sqlite3.OperationalError) no such table: space_mission\n",
            "[SQL: SELECT DISTINCT \"Launch_Site\" FROM space_mission;]\n",
            "(Background on this error at: https://sqlalche.me/e/20/e3q8)\n"
          ]
        }
      ]
    },
    {
      "cell_type": "markdown",
      "metadata": {
        "id": "425dab47"
      },
      "source": [
        "This cell executes a SQL query to retrieve the first 5 rows from the `space_mission` table where the \"Launch\\_Site\" starts with 'CCA%'.\n",
        "\n",
        "- **`SELECT * FROM space_mission`**: Selects all columns and rows from the `space_mission` table.\n",
        "- **`WHERE \"Launch_Site\" LIKE 'CCA%'`**: Filters the results to include only rows where the \"Launch\\_Site\" value begins with \"CCA\".\n",
        "- **`LIMIT 5`**: Limits the output to the first 5 matching rows.\n",
        "\n",
        "The query result is then read into a pandas DataFrame named `df_cca` and printed. This helps to quickly inspect a subset of the data from the CCA launch sites."
      ]
    },
    {
      "cell_type": "code",
      "source": [
        "query = \"\"\"\n",
        "SELECT *\n",
        "FROM space_mission\n",
        "WHERE \"Launch_Site\" LIKE 'CCA%'\n",
        "LIMIT 5;\n",
        "\"\"\"\n",
        "df_cca = pd.read_sql_query(query, conn)\n",
        "print(df_cca)"
      ],
      "metadata": {
        "colab": {
          "base_uri": "https://localhost:8080/"
        },
        "id": "193DP2m7FsAC",
        "outputId": "b716feae-b97c-4cab-e0d8-8b23000be3f4"
      },
      "execution_count": 24,
      "outputs": [
        {
          "output_type": "stream",
          "name": "stdout",
          "text": [
            "         Date Time (UTC) Booster_Version  Launch_Site  \\\n",
            "0  2010-06-04   18:45:00  F9 v1.0  B0003  CCAFS LC-40   \n",
            "1  2010-12-08   15:43:00  F9 v1.0  B0004  CCAFS LC-40   \n",
            "2  2012-05-22    7:44:00  F9 v1.0  B0005  CCAFS LC-40   \n",
            "3  2012-10-08    0:35:00  F9 v1.0  B0006  CCAFS LC-40   \n",
            "4  2013-03-01   15:10:00  F9 v1.0  B0007  CCAFS LC-40   \n",
            "\n",
            "                                             Payload  PAYLOAD_MASS__KG_  \\\n",
            "0               Dragon Spacecraft Qualification Unit                  0   \n",
            "1  Dragon demo flight C1, two CubeSats, barrel of...                  0   \n",
            "2                              Dragon demo flight C2                525   \n",
            "3                                       SpaceX CRS-1                500   \n",
            "4                                       SpaceX CRS-2                677   \n",
            "\n",
            "       Orbit         Customer Mission_Outcome      Landing_Outcome  \n",
            "0        LEO           SpaceX         Success  Failure (parachute)  \n",
            "1  LEO (ISS)  NASA (COTS) NRO         Success  Failure (parachute)  \n",
            "2  LEO (ISS)      NASA (COTS)         Success           No attempt  \n",
            "3  LEO (ISS)       NASA (CRS)         Success           No attempt  \n",
            "4  LEO (ISS)       NASA (CRS)         Success           No attempt  \n"
          ]
        }
      ]
    },
    {
      "cell_type": "markdown",
      "metadata": {
        "id": "c19cee49"
      },
      "source": [
        "**Results Interpretation:**\n",
        "\n",
        "The output displays the first 5 rows of data for launches from sites starting with 'CCA'. This provides a quick look at the structure and content of the data for these specific launch sites, including details like the date, time, booster version, payload, payload mass, orbit, customer, mission outcome, and landing outcome for these initial missions."
      ]
    },
    {
      "cell_type": "code",
      "source": [
        "query = \"\"\"\n",
        "SELECT SUM(\"Payload_Mass\") AS Total_Payload_Mass\n",
        "FROM space_mission\n",
        "WHERE \"Customer\" = 'NASA (CRS)';\n",
        "\"\"\"\n",
        "result = pd.read_sql_query(query, conn)\n",
        "print(result)"
      ],
      "metadata": {
        "colab": {
          "base_uri": "https://localhost:8080/"
        },
        "id": "W2r9F7n-F5wR",
        "outputId": "75136e0e-2105-4b8f-8784-87011a578c14"
      },
      "execution_count": 25,
      "outputs": [
        {
          "output_type": "stream",
          "name": "stdout",
          "text": [
            "   Total_Payload_Mass\n",
            "0                 0.0\n"
          ]
        }
      ]
    },
    {
      "cell_type": "markdown",
      "metadata": {
        "id": "6a12dfd5"
      },
      "source": [
        "This cell executes a SQL query to calculate the total payload mass for all launches where the customer is 'NASA (CRS)'.\n",
        "\n",
        "- **`SELECT SUM(\"Payload_Mass\") AS Total_Payload_Mass`**: Calculates the sum of the \"Payload\\_Mass\" column and names the result \"Total\\_Payload\\_Mass\".\n",
        "- **`FROM space_mission`**: Specifies that the data is being retrieved from the `space_mission` table.\n",
        "- **`WHERE \"Customer\" = 'NASA (CRS)'`**: Filters the results to include only rows where the \"Customer\" column is exactly 'NASA (CRS)'.\n",
        "\n",
        "The query result, the total payload mass for NASA (CRS) missions, is then read into a pandas DataFrame named `result` and printed.\n",
        "\n",
        "**Results Interpretation:**\n",
        "\n",
        "The output displays the total payload mass for all SpaceX missions with 'NASA (CRS)' as the customer. The value shown in the `Total_Payload_Mass` column represents the cumulative weight of all payloads sent to space for NASA's Commercial Resupply Services program."
      ]
    },
    {
      "cell_type": "code",
      "source": [
        "query = \"\"\"\n",
        "SELECT AVG(\"Payload_Mass\") AS Average_Payload_Mass\n",
        "FROM space_mission\n",
        "WHERE \"Booster_Version\" = 'F9 v1.1';\n",
        "\"\"\"\n",
        "result = pd.read_sql_query(query, conn)\n",
        "print(result)"
      ],
      "metadata": {
        "colab": {
          "base_uri": "https://localhost:8080/"
        },
        "id": "LV7ku8mMF65a",
        "outputId": "12b396b3-0b5e-4ee0-e3ae-25f751672004"
      },
      "execution_count": 26,
      "outputs": [
        {
          "output_type": "stream",
          "name": "stdout",
          "text": [
            "   Average_Payload_Mass\n",
            "0                   0.0\n"
          ]
        }
      ]
    },
    {
      "cell_type": "markdown",
      "metadata": {
        "id": "88b8a7ff"
      },
      "source": [
        "This cell executes a SQL query to calculate the average payload mass for all launches where the \"Booster\\_Version\" is 'F9 v1.1'.\n",
        "\n",
        "- **`SELECT AVG(\"Payload_Mass\") AS Average_Payload_Mass`**: Calculates the average of the \"Payload\\_Mass\" column and names the result \"Average\\_Payload\\_Mass\".\n",
        "- **`FROM space_mission`**: Specifies that the data is being retrieved from the `space_mission` table.\n",
        "- **`WHERE \"Booster_Version\" = 'F9 v1.1'`**: Filters the results to include only rows where the \"Booster\\_Version\" is 'F9 v1.1'.\n",
        "\n",
        "The query result, the average payload mass for 'F9 v1.1' booster launches, is then read into a pandas DataFrame named `result` and printed.\n",
        "\n",
        "**Results Interpretation:**\n",
        "\n",
        "The output displays the average payload mass for all SpaceX missions that used the 'F9 v1.1' booster version. The value in the `Average_Payload_Mass` column represents the typical weight of payloads launched with this specific booster."
      ]
    },
    {
      "cell_type": "code",
      "source": [
        "query = \"\"\"\n",
        "SELECT MIN(\"Date\") AS First_Successful_RTLS\n",
        "FROM space_mission\n",
        "WHERE \"Landing_Outcome\" = 1 AND \"Booster_Landing\" = 'RTLS';\n",
        "\"\"\"\n",
        "result = pd.read_sql_query(query, conn)\n",
        "print(result)"
      ],
      "metadata": {
        "colab": {
          "base_uri": "https://localhost:8080/"
        },
        "id": "Xl4QJIQdGDMa",
        "outputId": "041c2610-5a27-47e5-a980-b3f2323e7a69"
      },
      "execution_count": 27,
      "outputs": [
        {
          "output_type": "stream",
          "name": "stdout",
          "text": [
            "  First_Successful_RTLS\n",
            "0                  None\n"
          ]
        }
      ]
    },
    {
      "cell_type": "markdown",
      "metadata": {
        "id": "09f81af1"
      },
      "source": [
        "This cell executes a SQL query to find the date of the first successful RTLS (Return to Launch Site) landing.\n",
        "\n",
        "- **`SELECT MIN(\"Date\") AS First_Successful_RTLS`**: Selects the minimum value from the \"Date\" column and names the result \"First\\_Successful\\_RTLS\".\n",
        "- **`FROM space_mission`**: Specifies that the data is being retrieved from the `space_mission` table.\n",
        "- **`WHERE \"Landing_Outcome\" = 1 AND \"Booster_Landing\" = 'RTLS'`**: Filters the results to include only rows where the \"Landing\\_Outcome\" is 1 (indicating success) and the \"Booster\\_Landing\" method is 'RTLS'.\n",
        "\n",
        "The query result, the date of the first successful RTLS landing, is then read into a pandas DataFrame named `result` and printed.\n",
        "\n",
        "**Results Interpretation:**\n",
        "\n",
        "The output displays the date of the very first successful RTLS landing recorded in the dataset. If the output shows `None` or an empty result, it means there were no successful RTLS landings found within the filtered data."
      ]
    },
    {
      "cell_type": "code",
      "source": [
        "query = \"\"\"\n",
        "SELECT \"Booster_Version\"\n",
        "FROM space_mission\n",
        "WHERE \"Landing_Outcome\" = 1\n",
        "  AND \"Booster_Landing\" = 'ASDS'\n",
        "  AND \"Payload_Mass\" > 4000\n",
        "  AND \"Payload_Mass\" < 6000;\n",
        "\"\"\"\n",
        "result = pd.read_sql_query(query, conn)\n",
        "print(result)"
      ],
      "metadata": {
        "colab": {
          "base_uri": "https://localhost:8080/"
        },
        "id": "b87KaBZAF-TQ",
        "outputId": "24b807db-e5e5-49d5-f30a-ab5f600231b8"
      },
      "execution_count": 29,
      "outputs": [
        {
          "output_type": "stream",
          "name": "stdout",
          "text": [
            "Empty DataFrame\n",
            "Columns: [Booster_Version]\n",
            "Index: []\n"
          ]
        }
      ]
    },
    {
      "cell_type": "markdown",
      "metadata": {
        "id": "c321a769"
      },
      "source": [
        "This cell executes a SQL query to find the \"Booster\\_Version\" for launches that meet specific criteria:\n",
        "\n",
        "- **`SELECT \"Booster_Version\"`**: Selects the \"Booster\\_Version\" column.\n",
        "- **`FROM space_mission`**: Specifies that the data is being retrieved from the `space_mission` table.\n",
        "- **`WHERE \"Landing_Outcome\" = 1`**: Filters for launches where the \"Landing\\_Outcome\" is 1 (indicating success).\n",
        "- **`AND \"Booster_Landing\" = 'ASDS'`**: Further filters for launches where the \"Booster\\_Landing\" method was 'ASDS' (Autonomous Spaceport Drone Ship).\n",
        "- **`AND \"Payload_Mass\" > 4000`**: Filters for launches where the \"Payload\\_Mass\" is greater than 4000 kg.\n",
        "- **`AND \"Payload_Mass\" < 6000`**: Filters for launches where the \"Payload\\_Mass\" is less than 6000 kg.\n",
        "\n",
        "The query result, a list of booster versions that satisfy these conditions, is then read into a pandas DataFrame named `result` and printed.\n",
        "\n",
        "**Results Interpretation:**\n",
        "\n",
        "The output displays the \"Booster\\_Version\" for any launches that had a successful ASDS landing with a payload mass between 4000 kg and 6000 kg. If the output shows an empty DataFrame, it means no launches in the dataset met all of these criteria."
      ]
    },
    {
      "cell_type": "code",
      "source": [
        "query = \"\"\"\n",
        "SELECT \"Landing_Outcome\", COUNT(*) AS Total\n",
        "FROM space_mission\n",
        "GROUP BY \"Landing_Outcome\";\n",
        "\"\"\"\n",
        "result = pd.read_sql_query(query, conn)\n",
        "print(result)"
      ],
      "metadata": {
        "colab": {
          "base_uri": "https://localhost:8080/"
        },
        "id": "PNhgfrq3GLsa",
        "outputId": "1ac99abb-09fb-4456-d5c6-9cb63524301f"
      },
      "execution_count": 30,
      "outputs": [
        {
          "output_type": "stream",
          "name": "stdout",
          "text": [
            "           Landing_Outcome  Total\n",
            "0       Controlled (ocean)      5\n",
            "1                  Failure      3\n",
            "2     Failure (drone ship)      5\n",
            "3      Failure (parachute)      2\n",
            "4               No attempt     21\n",
            "5              No attempt       1\n",
            "6   Precluded (drone ship)      1\n",
            "7                  Success     38\n",
            "8     Success (drone ship)     14\n",
            "9     Success (ground pad)      9\n",
            "10    Uncontrolled (ocean)      2\n"
          ]
        }
      ]
    },
    {
      "cell_type": "markdown",
      "metadata": {
        "id": "b08d2de7"
      },
      "source": [
        "This cell executes a SQL query to count the number of occurrences for each unique \"Landing\\_Outcome\".\n",
        "\n",
        "- **`SELECT \"Landing_Outcome\", COUNT(*) AS Total`**: Selects the \"Landing\\_Outcome\" column and counts the number of rows for each outcome, naming the count \"Total\".\n",
        "- **`FROM space_mission`**: Specifies that the data is being retrieved from the `space_mission` table.\n",
        "- **`GROUP BY \"Landing_Outcome\"`**: Groups the results by the values in the \"Landing\\_Outcome\" column, so the count is done for each distinct outcome.\n",
        "\n",
        "The query result, a table showing each landing outcome and its total count, is then read into a pandas DataFrame named `result` and printed.\n",
        "\n",
        "**Results Interpretation:**\n",
        "\n",
        "The output displays a summary of all the different \"Landing\\_Outcome\" values present in the dataset and the total number of times each outcome occurred. This provides a clear overview of the distribution of landing results for SpaceX missions."
      ]
    },
    {
      "cell_type": "code",
      "source": [
        "query = \"\"\"\n",
        "SELECT \"Booster_Version\"\n",
        "FROM space_mission\n",
        "WHERE \"Payload_Mass\" = (\n",
        "    SELECT MAX(\"Payload_Mass\")\n",
        "    FROM space_mission\n",
        ");\n",
        "\"\"\"\n",
        "result = pd.read_sql_query(query, conn)\n",
        "print(result)"
      ],
      "metadata": {
        "colab": {
          "base_uri": "https://localhost:8080/"
        },
        "id": "VFbH-HcWGNMf",
        "outputId": "908c6dd5-ad4f-45a1-9050-24905ed52561"
      },
      "execution_count": 32,
      "outputs": [
        {
          "output_type": "stream",
          "name": "stdout",
          "text": [
            "    Booster_Version\n",
            "0    F9 v1.0  B0003\n",
            "1    F9 v1.0  B0004\n",
            "2    F9 v1.0  B0005\n",
            "3    F9 v1.0  B0006\n",
            "4    F9 v1.0  B0007\n",
            "..              ...\n",
            "96     F9 B5B1062.1\n",
            "97    F9 B5B1061.1 \n",
            "98     F9 B5B1063.1\n",
            "99   F9 B5 B1049.7 \n",
            "100  F9 B5 B1058.4 \n",
            "\n",
            "[101 rows x 1 columns]\n"
          ]
        }
      ]
    },
    {
      "cell_type": "markdown",
      "metadata": {
        "id": "7a8f2521"
      },
      "source": [
        "This cell executes a SQL query to find the \"Booster\\_Version\" for launches that carried the maximum payload mass in the dataset.\n",
        "\n",
        "- **`SELECT \"Booster_Version\"`**: Selects the \"Booster\\_Version\" column.\n",
        "- **`FROM space_mission`**: Specifies that the data is being retrieved from the `space_mission` table.\n",
        "- **`WHERE \"Payload_Mass\" = (SELECT MAX(\"Payload_Mass\") FROM space_mission)`**: This is a subquery that finds the maximum value in the \"Payload\\_Mass\" column. The outer query then filters the `space_mission` table to include only rows where the \"Payload\\_Mass\" is equal to this maximum value.\n",
        "\n",
        "The query result, a list of booster versions that carried the maximum payload, is then read into a pandas DataFrame named `result` and printed.\n",
        "\n",
        "**Results Interpretation:**\n",
        "\n",
        "The output displays the booster versions used for all launches that carried the heaviest payload recorded in the dataset. If multiple launches carried the same maximum payload mass, all corresponding booster versions will be listed."
      ]
    },
    {
      "cell_type": "code",
      "source": [
        "query = \"\"\"\n",
        "SELECT\n",
        "    substr(\"Date\", 6, 2) AS Month,\n",
        "    \"Booster_Version\",\n",
        "    \"Launch_Site\",\n",
        "    \"Landing_Outcome\",\n",
        "    \"Booster_Landing\"\n",
        "FROM space_mission\n",
        "WHERE \"Landing_Outcome\" = 0\n",
        "  AND \"Booster_Landing\" = 'ASDS'\n",
        "  AND substr(\"Date\", 1, 4) = '2015';\n",
        "\"\"\"\n",
        "result = pd.read_sql_query(query, conn)\n",
        "print(result)\n"
      ],
      "metadata": {
        "colab": {
          "base_uri": "https://localhost:8080/"
        },
        "id": "mdIIGBTYGTa8",
        "outputId": "e1b95bd0-dd97-44dc-96cb-ba0bc42d381f"
      },
      "execution_count": 33,
      "outputs": [
        {
          "output_type": "stream",
          "name": "stdout",
          "text": [
            "Empty DataFrame\n",
            "Columns: [Month, Booster_Version, Launch_Site, Landing_Outcome, \"Booster_Landing\"]\n",
            "Index: []\n"
          ]
        }
      ]
    },
    {
      "cell_type": "markdown",
      "metadata": {
        "id": "1f89e968"
      },
      "source": [
        "This cell executes a SQL query to retrieve information about launches in the year 2015 that had a failed ASDS (Autonomous Spaceport Drone Ship) landing.\n",
        "\n",
        "- **`SELECT substr(\"Date\", 6, 2) AS Month, \"Booster_Version\", \"Launch_Site\", \"Landing_Outcome\", \"Booster_Landing\"`**: Selects the month from the \"Date\" column (using `substr`), along with the \"Booster\\_Version\", \"Launch\\_Site\", \"Landing\\_Outcome\", and \"Booster\\_Landing\" columns.\n",
        "- **`FROM space_mission`**: Specifies that the data is being retrieved from the `space_mission` table.\n",
        "- **`WHERE \"Landing_Outcome\" = 0`**: Filters for launches where the \"Landing\\_Outcome\" is 0 (indicating failure).\n",
        "- **`AND \"Booster_Landing\" = 'ASDS'`**: Further filters for launches where the \"Booster\\_Landing\" method was 'ASDS'.\n",
        "- **`AND substr(\"Date\", 1, 4) = '2015'`**: Filters for launches that occurred in the year 2015 (by extracting the year from the \"Date\" column using `substr`).\n",
        "\n",
        "The query result, a list of launches in 2015 with failed ASDS landings, is then read into a pandas DataFrame named `result` and printed.\n",
        "\n",
        "**Results Interpretation:**\n",
        "\n",
        "The output displays the details for any launches in 2015 that experienced a failed ASDS landing. If the output shows an empty DataFrame, it means there were no launches in 2015 that met these specific criteria."
      ]
    },
    {
      "cell_type": "code",
      "source": [
        "query = \"\"\"\n",
        "SELECT\n",
        "    \"Landing_Outcome\",\n",
        "    \"Booster_Landing\",\n",
        "    COUNT(*) AS Outcome_Count\n",
        "FROM space_mission\n",
        "WHERE \"Date\" BETWEEN '2010-06-04' AND '2017-03-20'\n",
        "GROUP BY \"Landing_Outcome\", \"Booster_Landing\"\n",
        "ORDER BY Outcome_Count DESC;\n",
        "\"\"\"\n",
        "result = pd.read_sql_query(query, conn)\n",
        "print(result)"
      ],
      "metadata": {
        "colab": {
          "base_uri": "https://localhost:8080/"
        },
        "id": "5D4_dkb1GWIZ",
        "outputId": "07ee7bb9-ebbe-471c-e51d-b75dd92b5f20"
      },
      "execution_count": 35,
      "outputs": [
        {
          "output_type": "stream",
          "name": "stdout",
          "text": [
            "          Landing_Outcome \"Booster_Landing\"  Outcome_Count\n",
            "0              No attempt   Booster_Landing             10\n",
            "1    Failure (drone ship)   Booster_Landing              5\n",
            "2    Success (drone ship)   Booster_Landing              5\n",
            "3      Controlled (ocean)   Booster_Landing              3\n",
            "4    Success (ground pad)   Booster_Landing              3\n",
            "5     Failure (parachute)   Booster_Landing              2\n",
            "6    Uncontrolled (ocean)   Booster_Landing              2\n",
            "7  Precluded (drone ship)   Booster_Landing              1\n"
          ]
        }
      ]
    },
    {
      "cell_type": "markdown",
      "metadata": {
        "id": "ca4bf875"
      },
      "source": [
        "This cell executes a SQL query to count the number of occurrences for each combination of \"Landing\\_Outcome\" and \"Booster\\_Landing\" within a specified date range.\n",
        "\n",
        "- **`SELECT \"Landing_Outcome\", \"Booster_Landing\", COUNT(*) AS Outcome_Count`**: Selects the \"Landing\\_Outcome\" and \"Booster\\_Landing\" columns and counts the number of rows for each unique combination, naming the count \"Outcome\\_Count\".\n",
        "- **`FROM space_mission`**: Specifies that the data is being retrieved from the `space_mission` table.\n",
        "- **`WHERE \"Date\" BETWEEN '2010-06-04' AND '2017-03-20'`**: Filters the results to include only launches that occurred between the specified start and end dates.\n",
        "- **`GROUP BY \"Landing_Outcome\", \"Booster_Landing\"`**: Groups the results by both \"Landing\\_Outcome\" and \"Booster\\_Landing\", so the count is done for each distinct combination of these two columns.\n",
        "- **`ORDER BY Outcome_Count DESC`**: Orders the results in descending order based on the \"Outcome\\_Count\", showing the most frequent outcomes first.\n",
        "\n",
        "The query result, a table showing each combination of landing outcome and booster landing method within the date range and its count, is then read into a pandas DataFrame named `result` and printed.\n",
        "\n",
        "**Results Interpretation:**\n",
        "\n",
        "The output displays a summary of the different combinations of \"Landing\\_Outcome\" and \"Booster\\_Landing\" within the specified date range, along with the total number of times each combination occurred. The results are ordered by the count, allowing for easy identification of the most common landing scenarios during this period."
      ]
    }
  ]
}